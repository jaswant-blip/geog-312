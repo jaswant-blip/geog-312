{
 "cells": [
  {
   "cell_type": "markdown",
   "id": "0",
   "metadata": {},
   "source": [
    "# Data Structures\n",
    "\n",
    "[![Open In Colab](https://colab.research.google.com/assets/colab-badge.svg)](https://colab.research.google.com/github/giswqs/geog-312/blob/main/book/python/03_data_structures.ipynb)\n",
    "\n",
    "## Overview\n",
    "\n",
    "In this lecture, we will explore the fundamental Python data structures: Tuples, Lists, Sets, and Dictionaries. These data structures are essential tools in geospatial programming, enabling you to efficiently store, manage, and manipulate various types of data. By mastering these structures, you will be able to handle complex geospatial datasets with ease, paving the way for more advanced analysis and processing tasks.\n",
    "\n",
    "## Learning Objectives\n",
    "\n",
    "By the end of this lecture, you should be able to:\n",
    "\n",
    "- Understand the characteristics and use cases of Python tuples, lists, sets, and dictionaries.\n",
    "- Apply these data structures to store and manipulate geospatial data, such as coordinates, paths, and attribute information.\n",
    "- Differentiate between mutable and immutable data structures and choose the appropriate structure for different geospatial tasks.\n",
    "- Perform common operations on these data structures, including indexing, slicing, adding/removing elements, and updating values.\n",
    "- Utilize dictionaries to manage geospatial feature attributes and understand the importance of key-value pairs in geospatial data management."
   ]
  },
  {
   "cell_type": "markdown",
   "id": "1",
   "metadata": {},
   "source": [
    "## Tuples\n",
    "\n",
    "Tuples are immutable sequences, meaning that once a tuple is created, its elements cannot be changed. Tuples are useful for storing fixed collections of items.\n",
    "\n",
    "For example, a tuple can be used to store the coordinates of a geographic point (latitude, longitude)."
   ]
  },
  {
   "cell_type": "code",
   "execution_count": 67,
   "id": "2",
   "metadata": {},
   "outputs": [],
   "source": [
    "point = (35.6895,139.6917,)  # Tuple representing a geographic point (latitude, longitude)"
   ]
  },
  {
   "cell_type": "code",
   "execution_count": 68,
   "id": "066866a7",
   "metadata": {},
   "outputs": [
    {
     "data": {
      "text/plain": [
       "(35.6895, 139.6917)"
      ]
     },
     "execution_count": 68,
     "metadata": {},
     "output_type": "execute_result"
    }
   ],
   "source": [
    "point"
   ]
  },
  {
   "cell_type": "markdown",
   "id": "3",
   "metadata": {},
   "source": [
    "You can access elements in a tuple using indexing:"
   ]
  },
  {
   "cell_type": "code",
   "execution_count": 69,
   "id": "5435fe52",
   "metadata": {},
   "outputs": [],
   "source": [
    "cities = (\"jodhpur\",\"jaipur\")"
   ]
  },
  {
   "cell_type": "code",
   "execution_count": 70,
   "id": "2a960fe8",
   "metadata": {},
   "outputs": [
    {
     "data": {
      "text/plain": [
       "'jodhpur'"
      ]
     },
     "execution_count": 70,
     "metadata": {},
     "output_type": "execute_result"
    }
   ],
   "source": [
    "cities[0]"
   ]
  },
  {
   "cell_type": "code",
   "execution_count": 56,
   "id": "8cdb4658",
   "metadata": {},
   "outputs": [
    {
     "data": {
      "text/plain": [
       "'jaipur'"
      ]
     },
     "execution_count": 56,
     "metadata": {},
     "output_type": "execute_result"
    }
   ],
   "source": [
    "cities[1]"
   ]
  },
  {
   "cell_type": "code",
   "execution_count": 71,
   "id": "e7164f8d",
   "metadata": {},
   "outputs": [
    {
     "data": {
      "text/plain": [
       "'jaipur'"
      ]
     },
     "execution_count": 71,
     "metadata": {},
     "output_type": "execute_result"
    }
   ],
   "source": [
    "cities[-1]"
   ]
  },
  {
   "cell_type": "code",
   "execution_count": 74,
   "id": "59e134da",
   "metadata": {},
   "outputs": [
    {
     "data": {
      "text/plain": [
       "'jodhpur'"
      ]
     },
     "execution_count": 74,
     "metadata": {},
     "output_type": "execute_result"
    }
   ],
   "source": [
    "cities[-2]"
   ]
  },
  {
   "cell_type": "code",
   "execution_count": 75,
   "id": "35972a9e",
   "metadata": {},
   "outputs": [],
   "source": [
    "cities = (\"mumbai\", \"delhi\"),(\"jodhpur\",\"jaipur\")"
   ]
  },
  {
   "cell_type": "code",
   "execution_count": 78,
   "id": "b419ac64",
   "metadata": {},
   "outputs": [
    {
     "data": {
      "text/plain": [
       "('jodhpur', 'jaipur')"
      ]
     },
     "execution_count": 78,
     "metadata": {},
     "output_type": "execute_result"
    }
   ],
   "source": [
    "cities[1]"
   ]
  },
  {
   "cell_type": "code",
   "execution_count": 77,
   "id": "f042409f",
   "metadata": {},
   "outputs": [
    {
     "data": {
      "text/plain": [
       "'jaipur'"
      ]
     },
     "execution_count": 77,
     "metadata": {},
     "output_type": "execute_result"
    }
   ],
   "source": [
    "cities[1][1]"
   ]
  },
  {
   "cell_type": "code",
   "execution_count": 85,
   "id": "420bccdd",
   "metadata": {},
   "outputs": [
    {
     "data": {
      "text/plain": [
       "'jodhpur'"
      ]
     },
     "execution_count": 85,
     "metadata": {},
     "output_type": "execute_result"
    }
   ],
   "source": [
    "cities[1][-2]"
   ]
  },
  {
   "cell_type": "code",
   "execution_count": 57,
   "id": "4",
   "metadata": {},
   "outputs": [
    {
     "name": "stdout",
     "output_type": "stream",
     "text": [
      "Latitude: 35.6895, Longitude: 139.6917\n"
     ]
    }
   ],
   "source": [
    "latitude = point[0]\n",
    "longitude = point[1]\n",
    "print(f\"Latitude: {latitude}, Longitude: {longitude}\")"
   ]
  },
  {
   "cell_type": "markdown",
   "id": "5",
   "metadata": {},
   "source": [
    "## Lists\n",
    "\n",
    "Lists are ordered, mutable sequences, meaning you can change, add, or remove elements after the list has been created. Lists are very flexible and can store multiple types of data, making them useful for various geospatial tasks.\n",
    "\n",
    "For example, you can store a list of coordinates representing a path or boundary."
   ]
  },
  {
   "cell_type": "code",
   "execution_count": 118,
   "id": "6",
   "metadata": {},
   "outputs": [],
   "source": [
    "path = [\n",
    "    (35.6895, 139.6917),\n",
    "    (34.0522, -118.2437),\n",
    "    (51.5074, -0.1278),\n",
    "]  # List of tuples representing a path"
   ]
  },
  {
   "cell_type": "markdown",
   "id": "7",
   "metadata": {},
   "source": [
    "You can add a new point to the path:"
   ]
  },
  {
   "cell_type": "code",
   "execution_count": 119,
   "id": "8",
   "metadata": {},
   "outputs": [
    {
     "name": "stdout",
     "output_type": "stream",
     "text": [
      "Updated path: [(35.6895, 139.6917), (34.0522, -118.2437), (51.5074, -0.1278), (48.8566, 2.3522)]\n"
     ]
    }
   ],
   "source": [
    "path.append((48.8566, 2.3522))  # Adding Paris to the path\n",
    "print(\"Updated path:\", path)"
   ]
  },
  {
   "cell_type": "code",
   "execution_count": 112,
   "id": "499f6f6e",
   "metadata": {},
   "outputs": [],
   "source": [
    "path.clear()"
   ]
  },
  {
   "cell_type": "code",
   "execution_count": 120,
   "id": "d7910014",
   "metadata": {},
   "outputs": [
    {
     "data": {
      "text/plain": [
       "4"
      ]
     },
     "execution_count": 120,
     "metadata": {},
     "output_type": "execute_result"
    }
   ],
   "source": [
    "len(path)"
   ]
  },
  {
   "cell_type": "markdown",
   "id": "9",
   "metadata": {},
   "source": [
    "Lists allow you to perform various operations such as slicing, which lets you access a subset of the list:"
   ]
  },
  {
   "cell_type": "code",
   "execution_count": 60,
   "id": "10",
   "metadata": {},
   "outputs": [
    {
     "name": "stdout",
     "output_type": "stream",
     "text": [
      "Sub-path: [(35.6895, 139.6917), (34.0522, -118.2437)]\n"
     ]
    }
   ],
   "source": [
    "sub_path = path[:2]  # Slicing the first two points from the path\n",
    "print(\"Sub-path:\", sub_path)"
   ]
  },
  {
   "cell_type": "code",
   "execution_count": 124,
   "id": "78a89993",
   "metadata": {},
   "outputs": [
    {
     "data": {
      "text/plain": [
       "[(35.6895, 139.6917),\n",
       " (34.0522, -118.2437),\n",
       " (51.5074, -0.1278),\n",
       " (48.8566, 2.3522)]"
      ]
     },
     "execution_count": 124,
     "metadata": {},
     "output_type": "execute_result"
    }
   ],
   "source": [
    "path"
   ]
  },
  {
   "cell_type": "code",
   "execution_count": 128,
   "id": "3934e53f",
   "metadata": {},
   "outputs": [
    {
     "data": {
      "text/plain": [
       "[(34.0522, -118.2437), (51.5074, -0.1278), (48.8566, 2.3522)]"
      ]
     },
     "execution_count": 128,
     "metadata": {},
     "output_type": "execute_result"
    }
   ],
   "source": [
    "path[1:]"
   ]
  },
  {
   "cell_type": "code",
   "execution_count": 127,
   "id": "ff2c39aa",
   "metadata": {},
   "outputs": [
    {
     "data": {
      "text/plain": [
       "[(34.0522, -118.2437), (51.5074, -0.1278)]"
      ]
     },
     "execution_count": 127,
     "metadata": {},
     "output_type": "execute_result"
    }
   ],
   "source": [
    "path[1:3]"
   ]
  },
  {
   "cell_type": "code",
   "execution_count": 129,
   "id": "a7904228",
   "metadata": {},
   "outputs": [
    {
     "data": {
      "text/plain": [
       "[(35.6895, 139.6917), (34.0522, -118.2437)]"
      ]
     },
     "execution_count": 129,
     "metadata": {},
     "output_type": "execute_result"
    }
   ],
   "source": [
    "path[:2]"
   ]
  },
  {
   "cell_type": "code",
   "execution_count": 130,
   "id": "ff2c73d1",
   "metadata": {},
   "outputs": [
    {
     "data": {
      "text/plain": [
       "[(35.6895, 139.6917),\n",
       " (34.0522, -118.2437),\n",
       " (51.5074, -0.1278),\n",
       " (48.8566, 2.3522)]"
      ]
     },
     "execution_count": 130,
     "metadata": {},
     "output_type": "execute_result"
    }
   ],
   "source": [
    "path[:]"
   ]
  },
  {
   "cell_type": "code",
   "execution_count": 131,
   "id": "1bb96055",
   "metadata": {},
   "outputs": [
    {
     "data": {
      "text/plain": [
       "[(51.5074, -0.1278), (48.8566, 2.3522)]"
      ]
     },
     "execution_count": 131,
     "metadata": {},
     "output_type": "execute_result"
    }
   ],
   "source": [
    "path[-2:]"
   ]
  },
  {
   "cell_type": "code",
   "execution_count": 132,
   "id": "2e2e1194",
   "metadata": {},
   "outputs": [],
   "source": [
    "path.append(\"new york\")  "
   ]
  },
  {
   "cell_type": "code",
   "execution_count": 139,
   "id": "470b69aa",
   "metadata": {},
   "outputs": [],
   "source": [
    "path.append([\"city\",\"state\",\"country delhi\"])                       "
   ]
  },
  {
   "cell_type": "code",
   "execution_count": 140,
   "id": "e8d99a9f",
   "metadata": {},
   "outputs": [
    {
     "data": {
      "text/plain": [
       "[(35.6895, 139.6917),\n",
       " (34.0522, -118.2437),\n",
       " (51.5074, -0.1278),\n",
       " (48.8566, 2.3522),\n",
       " 'new york',\n",
       " ['city', 'state', 'country'],\n",
       " ['city', 'state', 'country delhi']]"
      ]
     },
     "execution_count": 140,
     "metadata": {},
     "output_type": "execute_result"
    }
   ],
   "source": [
    "path"
   ]
  },
  {
   "cell_type": "code",
   "execution_count": 143,
   "id": "a6f3303d",
   "metadata": {},
   "outputs": [
    {
     "data": {
      "text/plain": [
       "'delhi'"
      ]
     },
     "execution_count": 143,
     "metadata": {},
     "output_type": "execute_result"
    }
   ],
   "source": [
    "path[-1][2][-5:]"
   ]
  },
  {
   "cell_type": "code",
   "execution_count": 144,
   "id": "4c3ef1d5",
   "metadata": {},
   "outputs": [
    {
     "data": {
      "text/plain": [
       "'delhi'"
      ]
     },
     "execution_count": 144,
     "metadata": {},
     "output_type": "execute_result"
    }
   ],
   "source": [
    "path[-1][2].split()[1]"
   ]
  },
  {
   "cell_type": "markdown",
   "id": "11",
   "metadata": {},
   "source": [
    "## Sets\n",
    "\n",
    "Sets are unordered collections of unique elements. Sets are useful when you need to store a collection of items but want to eliminate duplicates.\n",
    "\n",
    "For example, you might want to store a set of unique geographic regions visited during a survey."
   ]
  },
  {
   "cell_type": "code",
   "execution_count": null,
   "id": "12",
   "metadata": {},
   "outputs": [],
   "source": [
    "regions = [\"North America\", \"Europe\", \"Asia\"]  # Set of regions\n",
    "regions = set(regions)"
   ]
  },
  {
   "cell_type": "code",
   "execution_count": 145,
   "id": "607cf9fd",
   "metadata": {},
   "outputs": [
    {
     "data": {
      "text/plain": [
       "{'Africa', 'Asia', 'Europe', 'North America'}"
      ]
     },
     "execution_count": 145,
     "metadata": {},
     "output_type": "execute_result"
    }
   ],
   "source": [
    "regions"
   ]
  },
  {
   "cell_type": "markdown",
   "id": "13",
   "metadata": {},
   "source": [
    "You can add a new region to the set:"
   ]
  },
  {
   "cell_type": "code",
   "execution_count": 62,
   "id": "14",
   "metadata": {},
   "outputs": [
    {
     "name": "stdout",
     "output_type": "stream",
     "text": [
      "Updated regions: {'Africa', 'Europe', 'Asia', 'North America'}\n"
     ]
    }
   ],
   "source": [
    "regions.add(\"Africa\")\n",
    "print(\"Updated regions:\", regions)"
   ]
  },
  {
   "cell_type": "markdown",
   "id": "15",
   "metadata": {},
   "source": [
    "Since sets do not allow duplicates, adding an existing region will not change the set:"
   ]
  },
  {
   "cell_type": "code",
   "execution_count": 63,
   "id": "16",
   "metadata": {},
   "outputs": [
    {
     "name": "stdout",
     "output_type": "stream",
     "text": [
      "Regions after attempting to add duplicate: {'Africa', 'Europe', 'Asia', 'North America'}\n"
     ]
    }
   ],
   "source": [
    "regions.add(\"Europe\")  # Attempting to add a duplicate element\n",
    "print(\"Regions after attempting to add duplicate:\", regions)"
   ]
  },
  {
   "cell_type": "code",
   "execution_count": 146,
   "id": "7bf4a0fe",
   "metadata": {},
   "outputs": [
    {
     "data": {
      "text/plain": [
       "set"
      ]
     },
     "execution_count": 146,
     "metadata": {},
     "output_type": "execute_result"
    }
   ],
   "source": [
    "type(regions)"
   ]
  },
  {
   "cell_type": "code",
   "execution_count": 147,
   "id": "3201677c",
   "metadata": {},
   "outputs": [],
   "source": [
    "regions_list = list(regions)  # Converting set to list"
   ]
  },
  {
   "cell_type": "code",
   "execution_count": 148,
   "id": "954bffb6",
   "metadata": {},
   "outputs": [],
   "source": [
    "regions_list = list(regions)  # Converting set to list"
   ]
  },
  {
   "cell_type": "code",
   "execution_count": 149,
   "id": "a6215164",
   "metadata": {},
   "outputs": [],
   "source": [
    "regions_list.append(\"South America\")  # Adding a new region"
   ]
  },
  {
   "cell_type": "code",
   "execution_count": 150,
   "id": "e70bd108",
   "metadata": {},
   "outputs": [
    {
     "data": {
      "text/plain": [
       "['Africa', 'Europe', 'Asia', 'North America', 'South America']"
      ]
     },
     "execution_count": 150,
     "metadata": {},
     "output_type": "execute_result"
    }
   ],
   "source": [
    "regions_list"
   ]
  },
  {
   "cell_type": "markdown",
   "id": "17",
   "metadata": {},
   "source": [
    "## Dictionaries\n",
    "\n",
    "Dictionaries are collections of key-value pairs, where each key is unique. Dictionaries are extremely useful for storing data that is associated with specific identifiers, such as attribute data for geographic features.\n",
    "\n",
    "For example, you can use a dictionary to store attributes of a geospatial feature, such as a city."
   ]
  },
  {
   "cell_type": "code",
   "execution_count": 151,
   "id": "18",
   "metadata": {},
   "outputs": [],
   "source": [
    "city_attributes = {\n",
    "    \"name\": \"Tokyo\",\n",
    "    \"population\": 13929286,\n",
    "    \"coordinates\": (35.6895, 139.6917),\n",
    "}  # Dictionary storing attributes of a city"
   ]
  },
  {
   "cell_type": "markdown",
   "id": "19",
   "metadata": {},
   "source": [
    "You can access the values associated with specific keys:"
   ]
  },
  {
   "cell_type": "code",
   "execution_count": 152,
   "id": "20",
   "metadata": {},
   "outputs": [
    {
     "name": "stdout",
     "output_type": "stream",
     "text": [
      "City: Tokyo, Population: 13929286\n"
     ]
    }
   ],
   "source": [
    "city_name = city_attributes[\"name\"]\n",
    "city_population = city_attributes[\"population\"]\n",
    "print(f\"City: {city_name}, Population: {city_population}\")"
   ]
  },
  {
   "cell_type": "markdown",
   "id": "21",
   "metadata": {},
   "source": [
    "You can also add or update key-value pairs in a dictionary:"
   ]
  },
  {
   "cell_type": "code",
   "execution_count": 153,
   "id": "22",
   "metadata": {},
   "outputs": [
    {
     "name": "stdout",
     "output_type": "stream",
     "text": [
      "Updated city attributes: {'name': 'Tokyo', 'population': 13929286, 'coordinates': (35.6895, 139.6917), 'area_km2': 2191}\n"
     ]
    }
   ],
   "source": [
    "city_attributes[\"area_km2\"] = 2191  # Adding the area of the city in square kilometers\n",
    "print(\"Updated city attributes:\", city_attributes)"
   ]
  },
  {
   "cell_type": "code",
   "execution_count": 154,
   "id": "d93f9250",
   "metadata": {},
   "outputs": [
    {
     "data": {
      "text/plain": [
       "{'name': 'Tokyo',\n",
       " 'population': 13929286,\n",
       " 'coordinates': (35.6895, 139.6917),\n",
       " 'area_km2': 2191}"
      ]
     },
     "execution_count": 154,
     "metadata": {},
     "output_type": "execute_result"
    }
   ],
   "source": [
    "city_attributes"
   ]
  },
  {
   "cell_type": "code",
   "execution_count": 159,
   "id": "60f5d290",
   "metadata": {},
   "outputs": [],
   "source": [
    "city_attributes['population'] = 14000000"
   ]
  },
  {
   "cell_type": "markdown",
   "id": "23",
   "metadata": {},
   "source": [
    "## Exercises\n",
    "\n",
    "Create a dictionary to store attributes of a geographic feature (e.g., a river or mountain). Include keys for the name, length, and location of the feature. Then, add an additional attribute (e.g., the source of the river or the height of the mountain) and print the dictionary."
   ]
  },
  {
   "cell_type": "code",
   "execution_count": 161,
   "id": "24",
   "metadata": {},
   "outputs": [
    {
     "name": "stdout",
     "output_type": "stream",
     "text": [
      "Geographic features: {'mountains': ['himalayas', 'andes', 'rockets'], 'lengths': [8848, 6960, 4300], 'rivers': ['nile', 'amazon', 'ganges'], 'lenghts': [6650, 6992, 5070]}\n"
     ]
    }
   ],
   "source": [
    "geographic__features = {\n",
    "    \"mountains\": [\"himalayas\", \"andes\", \"rockets\"],\n",
    "    \"lengths\": [8848, 6960, 4300],\n",
    "    \"rivers\": [\"nile\", \"amazon\", \"ganges\"],\n",
    "    \"lenghts\": [6650, 6992, 5070],\n",
    "}\n",
    "print(\"Geographic features:\", geographic__features)"
   ]
  },
  {
   "cell_type": "markdown",
   "id": "25",
   "metadata": {},
   "source": [
    "## Summary\n",
    "\n",
    "Understanding and utilizing Python's data structures such as tuples, lists, sets, and dictionaries are fundamental skills in geospatial programming. These structures provide the flexibility and functionality required to manage and manipulate spatial data effectively.\n",
    "\n",
    "Continue exploring these data structures by applying them to your geospatial projects and analyses."
   ]
  }
 ],
 "metadata": {
  "kernelspec": {
   "display_name": "geo",
   "language": "python",
   "name": "python3"
  },
  "language_info": {
   "codemirror_mode": {
    "name": "ipython",
    "version": 3
   },
   "file_extension": ".py",
   "mimetype": "text/x-python",
   "name": "python",
   "nbconvert_exporter": "python",
   "pygments_lexer": "ipython3",
   "version": "3.13.5"
  }
 },
 "nbformat": 4,
 "nbformat_minor": 5
}
